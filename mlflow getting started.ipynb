{
 "cells": [
  {
   "cell_type": "markdown",
   "id": "56440f3b-3be9-42cd-9ef0-6383592a9e42",
   "metadata": {},
   "source": [
    "pip install mlflow"
   ]
  },
  {
   "cell_type": "code",
   "execution_count": 1,
   "id": "2c9e340f-8939-4566-8ff6-82d5aa338c59",
   "metadata": {},
   "outputs": [],
   "source": [
    "import mlflow\n",
    "from sklearn.model_selection import train_test_split\n",
    "from sklearn.datasets import load_diabetes\n",
    "from sklearn.ensemble import RandomForestRegressor"
   ]
  },
  {
   "cell_type": "code",
   "execution_count": 2,
   "id": "7353c965-3bad-4ae0-a459-0f6ddfb79fb0",
   "metadata": {},
   "outputs": [
    {
     "name": "stderr",
     "output_type": "stream",
     "text": [
      "2025/04/16 14:50:04 INFO mlflow.tracking.fluent: Autologging successfully enabled for sklearn.\n",
      "2025/04/16 14:50:05 INFO mlflow.utils.autologging_utils: Created MLflow autologging run with ID '21df0bb47a8d444a855410f024f260b8', which will track hyperparameters, performance metrics, model artifacts, and lineage information for the current sklearn workflow\n"
     ]
    },
    {
     "data": {
      "text/html": [
       "<style>#sk-container-id-2 {color: black;background-color: white;}#sk-container-id-2 pre{padding: 0;}#sk-container-id-2 div.sk-toggleable {background-color: white;}#sk-container-id-2 label.sk-toggleable__label {cursor: pointer;display: block;width: 100%;margin-bottom: 0;padding: 0.3em;box-sizing: border-box;text-align: center;}#sk-container-id-2 label.sk-toggleable__label-arrow:before {content: \"▸\";float: left;margin-right: 0.25em;color: #696969;}#sk-container-id-2 label.sk-toggleable__label-arrow:hover:before {color: black;}#sk-container-id-2 div.sk-estimator:hover label.sk-toggleable__label-arrow:before {color: black;}#sk-container-id-2 div.sk-toggleable__content {max-height: 0;max-width: 0;overflow: hidden;text-align: left;background-color: #f0f8ff;}#sk-container-id-2 div.sk-toggleable__content pre {margin: 0.2em;color: black;border-radius: 0.25em;background-color: #f0f8ff;}#sk-container-id-2 input.sk-toggleable__control:checked~div.sk-toggleable__content {max-height: 200px;max-width: 100%;overflow: auto;}#sk-container-id-2 input.sk-toggleable__control:checked~label.sk-toggleable__label-arrow:before {content: \"▾\";}#sk-container-id-2 div.sk-estimator input.sk-toggleable__control:checked~label.sk-toggleable__label {background-color: #d4ebff;}#sk-container-id-2 div.sk-label input.sk-toggleable__control:checked~label.sk-toggleable__label {background-color: #d4ebff;}#sk-container-id-2 input.sk-hidden--visually {border: 0;clip: rect(1px 1px 1px 1px);clip: rect(1px, 1px, 1px, 1px);height: 1px;margin: -1px;overflow: hidden;padding: 0;position: absolute;width: 1px;}#sk-container-id-2 div.sk-estimator {font-family: monospace;background-color: #f0f8ff;border: 1px dotted black;border-radius: 0.25em;box-sizing: border-box;margin-bottom: 0.5em;}#sk-container-id-2 div.sk-estimator:hover {background-color: #d4ebff;}#sk-container-id-2 div.sk-parallel-item::after {content: \"\";width: 100%;border-bottom: 1px solid gray;flex-grow: 1;}#sk-container-id-2 div.sk-label:hover label.sk-toggleable__label {background-color: #d4ebff;}#sk-container-id-2 div.sk-serial::before {content: \"\";position: absolute;border-left: 1px solid gray;box-sizing: border-box;top: 0;bottom: 0;left: 50%;z-index: 0;}#sk-container-id-2 div.sk-serial {display: flex;flex-direction: column;align-items: center;background-color: white;padding-right: 0.2em;padding-left: 0.2em;position: relative;}#sk-container-id-2 div.sk-item {position: relative;z-index: 1;}#sk-container-id-2 div.sk-parallel {display: flex;align-items: stretch;justify-content: center;background-color: white;position: relative;}#sk-container-id-2 div.sk-item::before, #sk-container-id-2 div.sk-parallel-item::before {content: \"\";position: absolute;border-left: 1px solid gray;box-sizing: border-box;top: 0;bottom: 0;left: 50%;z-index: -1;}#sk-container-id-2 div.sk-parallel-item {display: flex;flex-direction: column;z-index: 1;position: relative;background-color: white;}#sk-container-id-2 div.sk-parallel-item:first-child::after {align-self: flex-end;width: 50%;}#sk-container-id-2 div.sk-parallel-item:last-child::after {align-self: flex-start;width: 50%;}#sk-container-id-2 div.sk-parallel-item:only-child::after {width: 0;}#sk-container-id-2 div.sk-dashed-wrapped {border: 1px dashed gray;margin: 0 0.4em 0.5em 0.4em;box-sizing: border-box;padding-bottom: 0.4em;background-color: white;}#sk-container-id-2 div.sk-label label {font-family: monospace;font-weight: bold;display: inline-block;line-height: 1.2em;}#sk-container-id-2 div.sk-label-container {text-align: center;}#sk-container-id-2 div.sk-container {/* jupyter's `normalize.less` sets `[hidden] { display: none; }` but bootstrap.min.css set `[hidden] { display: none !important; }` so we also need the `!important` here to be able to override the default hidden behavior on the sphinx rendered scikit-learn.org. See: https://github.com/scikit-learn/scikit-learn/issues/21755 */display: inline-block !important;position: relative;}#sk-container-id-2 div.sk-text-repr-fallback {display: none;}</style><div id=\"sk-container-id-2\" class=\"sk-top-container\"><div class=\"sk-text-repr-fallback\"><pre>RandomForestRegressor(max_depth=6, max_features=3)</pre><b>In a Jupyter environment, please rerun this cell to show the HTML representation or trust the notebook. <br />On GitHub, the HTML representation is unable to render, please try loading this page with nbviewer.org.</b></div><div class=\"sk-container\" hidden><div class=\"sk-item\"><div class=\"sk-estimator sk-toggleable\"><input class=\"sk-toggleable__control sk-hidden--visually\" id=\"sk-estimator-id-2\" type=\"checkbox\" checked><label for=\"sk-estimator-id-2\" class=\"sk-toggleable__label sk-toggleable__label-arrow\">RandomForestRegressor</label><div class=\"sk-toggleable__content\"><pre>RandomForestRegressor(max_depth=6, max_features=3)</pre></div></div></div></div></div>"
      ],
      "text/plain": [
       "RandomForestRegressor(max_depth=6, max_features=3)"
      ]
     },
     "execution_count": 2,
     "metadata": {},
     "output_type": "execute_result"
    }
   ],
   "source": [
    "mlflow.autolog()\n",
    "\n",
    "db = load_diabetes()\n",
    "X_train, X_test, y_train, y_test = train_test_split(db.data, db.target)\n",
    "\n",
    "rf = RandomForestRegressor(n_estimators=100, max_depth=6, max_features=3)\n",
    "# mlflow triggers logging automatically upon model fitting\n",
    "\n",
    "rf.fit(X_train, y_train)"
   ]
  },
  {
   "cell_type": "markdown",
   "id": "ef9e3f98-3aa7-47d1-a7ff-cb6a40b72a24",
   "metadata": {},
   "source": [
    "# Option 1: Enable autologging only for PyTorch\n",
    "mlflow.pytorch.autolog()\n",
    "\n",
    "# Option 2: Disable autologging for scikit-learn, but enable it for other libraries\n",
    "mlflow.sklearn.autolog(disable=True)\n",
    "mlflow.autolog()"
   ]
  },
  {
   "cell_type": "markdown",
   "id": "35fd29a0-0790-40b6-a76f-eedbc2592754",
   "metadata": {},
   "source": [
    "# run this in a cmd shell/Terminal\n",
    "> mlflow ui --port 8080\n",
    "\n",
    "Or"
   ]
  },
  {
   "cell_type": "code",
   "execution_count": null,
   "id": "c03dec9f-383d-46a1-a002-368e8386d859",
   "metadata": {},
   "outputs": [],
   "source": [
    "!mlflow ui --port 8080"
   ]
  },
  {
   "cell_type": "code",
   "execution_count": 3,
   "id": "dc752ed1-642f-41b9-809b-c26dc4d02982",
   "metadata": {},
   "outputs": [],
   "source": [
    "# Use the model to make predictions on the test dataset.\n",
    "predictions = rf.predict(X_test)"
   ]
  },
  {
   "cell_type": "code",
   "execution_count": 4,
   "id": "0672cf4e-88e9-480d-9501-407673fb6ebe",
   "metadata": {},
   "outputs": [
    {
     "data": {
      "text/plain": [
       "array([145.48802536, 222.19286524, 217.24073263, 157.44461299,\n",
       "       120.82707054,  92.2196386 , 120.47729713, 149.29776171,\n",
       "        93.81262932, 189.44024495, 107.8334353 , 196.13079972,\n",
       "       247.34968928, 181.38866568,  80.12244885, 211.29769892,\n",
       "       103.6549911 ,  88.00479538, 173.1248751 , 104.77774448,\n",
       "       129.80917752, 236.73311601,  90.78730302,  84.07547413,\n",
       "        83.59503825, 140.35510374, 156.97719807, 150.30680867,\n",
       "       273.83456169,  85.26840978,  96.04475791, 186.43953398,\n",
       "       209.93947291, 184.10650473, 165.33585268, 184.91093606,\n",
       "        90.95890053, 225.31920366, 171.49490414, 103.35642785,\n",
       "       120.39436873, 211.11370398, 106.19483327, 152.75766532,\n",
       "       168.39936741, 100.15737654, 101.18818909, 139.6398399 ,\n",
       "       167.10671667, 190.91776763, 128.10249074, 183.56566758,\n",
       "       244.72052912, 186.58156406, 155.57991827, 134.20991209,\n",
       "       153.52492202, 189.23093186, 132.79468173,  87.56167405,\n",
       "       116.26844178, 101.19381801, 221.14513912, 114.339876  ,\n",
       "       136.66742013, 195.7972571 , 146.12530331, 103.45664306,\n",
       "       150.10774729, 126.51924923, 190.44942864, 185.67435969,\n",
       "       202.39387358,  90.48430516, 212.22414939,  93.62111535,\n",
       "       134.81631575, 157.17762534, 187.37678992, 105.25903056,\n",
       "       180.71845564, 191.82813732,  98.99587543, 137.59133067,\n",
       "       129.28799303, 210.72856302, 236.41147334, 204.22219334,\n",
       "       221.24080066, 159.06763   , 187.82275083, 162.58706149,\n",
       "        91.09535137, 196.96777844, 192.03515112, 184.21299824,\n",
       "       259.63466435, 180.82199518,  88.95462752, 144.21787005,\n",
       "       225.35721838, 186.00371557, 206.03154453, 248.62758578,\n",
       "        95.21974171, 246.88449302,  93.4790629 , 111.12157362,\n",
       "        87.78837506, 192.17452301, 167.83650923])"
      ]
     },
     "execution_count": 4,
     "metadata": {},
     "output_type": "execute_result"
    }
   ],
   "source": [
    "predictions"
   ]
  },
  {
   "cell_type": "code",
   "execution_count": null,
   "id": "1abf5b8c-e915-4384-9898-56f198ff1b23",
   "metadata": {},
   "outputs": [],
   "source": []
  }
 ],
 "metadata": {
  "kernelspec": {
   "display_name": "Python 3 (ipykernel)",
   "language": "python",
   "name": "python3"
  },
  "language_info": {
   "codemirror_mode": {
    "name": "ipython",
    "version": 3
   },
   "file_extension": ".py",
   "mimetype": "text/x-python",
   "name": "python",
   "nbconvert_exporter": "python",
   "pygments_lexer": "ipython3",
   "version": "3.10.0"
  }
 },
 "nbformat": 4,
 "nbformat_minor": 5
}
